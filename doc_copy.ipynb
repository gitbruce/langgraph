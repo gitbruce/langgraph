{
 "cells": [
  {
   "cell_type": "code",
   "execution_count": 29,
   "metadata": {},
   "outputs": [],
   "source": [
    "import os\n",
    "import shutil\n",
    "import re\n",
    "from pathlib import Path\n",
    "\n",
    "pattern = r\"说明书.*\\.docx$\"\n",
    "\n",
    "def find_latest_files(src_folder, name_pattern):\n",
    "    \"\"\"\n",
    "    Navigate through all subfolders, find files matching the name pattern, \n",
    "    and copy the latest modified version to the destination folder.\n",
    "    \n",
    "    :param src_folder: The root folder to search in.\n",
    "    :param dest_folder: The folder to copy files to.\n",
    "    :param name_pattern: The pattern to match file names.\n",
    "    \"\"\"\n",
    "    file_map = {}\n",
    "    not_valid_file_list = []\n",
    "    regex = re.compile(name_pattern)\n",
    "\n",
    "     # Walk through all subfolders and files\n",
    "    file_count = 0  # Initialize the counter\n",
    "    for root, _, files in os.walk(src_folder):\n",
    "        for file in files:\n",
    "            if regex.search(file):  # Match using regex\n",
    "                full_path = os.path.join(root, file)\n",
    "                try:\n",
    "                    last_modified = os.path.getmtime(full_path)\n",
    "                    file_count += 1  # Increment the counter\n",
    "                    if file_count % 10 == 0:\n",
    "                        print(f\"file: {file}\")\n",
    "                except FileNotFoundError:\n",
    "                    print(f\"Warning: File not found: {full_path}\")\n",
    "                    not_valid_file_list.append(full_path)\n",
    "                    continue  # Skip to the next file\n",
    "                    \n",
    "                \n",
    "                if file not in file_map or last_modified > file_map[file][1]:\n",
    "                    file_map[file] = (full_path, last_modified)\n",
    "\n",
    "    # Return only the file paths\n",
    "    return {file: data[0] for file, data in file_map.items()}, not_valid_file_list\n",
    "\n",
    "def sanitize_filename(filename):\n",
    "    invalid_chars = r'<>:\"/\\|?*'\n",
    "    return re.sub(f\"[{invalid_chars}]\", \"_\", filename)\n",
    "\n",
    "def copy_files_to_dest(file_map, dest_folder):\n",
    "    \"\"\"\n",
    "    Copy files from their source paths to the destination folder.\n",
    "    \n",
    "    :param file_map: A dictionary with file names as keys and their source paths as values.\n",
    "    :param dest_folder: The folder to copy files to.\n",
    "    \"\"\"\n",
    "    for file, full_path in file_map.items():\n",
    "        # Sanitize file name to avoid invalid characters\n",
    "        sanitized_file = sanitize_filename(file)\n",
    "        dest_path = os.path.join(dest_folder, sanitized_file)\n",
    "        \n",
    "        print(f\"Source: {full_path}, Destination: {dest_path}\")\n",
    "\n",
    "        # Check if the source file exists\n",
    "        if not os.path.exists(full_path):\n",
    "            print(f\"Warning: Source file does not exist: {full_path}\")\n",
    "            continue\n",
    "        \n",
    "        try:\n",
    "            shutil.copy2(full_path, dest_path)\n",
    "            print(f\"Copied: {file} to {dest_folder}\")\n",
    "        except OSError as e:\n",
    "            print(f\"Error copying {file}: {e}\") "
   ]
  },
  {
   "cell_type": "code",
   "execution_count": 10,
   "metadata": {},
   "outputs": [
    {
     "name": "stdout",
     "output_type": "stream",
     "text": [
      "file: 信保贷二期业务需求说明书 V1.0-20210818-OMT20210820_en.docx\n",
      "file: CUP CAR LOAN 需求说明书 v1.0.4.docx\n",
      "file: CUP CAR LOAN 需求说明书 v1.1.2.docx\n",
      "file: CUP CAR LOAN 需求说明书 v1.1.3_Final.docx\n",
      "file: FAF 需求说明书 v1.0.0.docx\n",
      "file: 微信银行业务需求说明书 v1.2.docx\n",
      "file: 微信银行业务需求说明书 v1.5.4.docx\n",
      "file: 微信银行 IDAMS需求说明书.docx\n",
      "file: 微信银行业务需求说明书 v1.5.0.docx\n",
      "file: 材料2.1：微信银行业务需求说明书 v1.5.4.docx\n",
      "file: OFFCN EDU LOAN Phase2 需求说明书 v1.0.4_20211220.docx\n",
      "file: PAPH LOAN 需求说明书 v1.0.1.docx\n",
      "file: PBOC人行征信衍生变量管理系统 需求说明书 v1.1.0.docx\n",
      "file: CUP CAR LOAN 需求说明书 v1.1.3_0330.docx\n",
      "file: CUP CAR LOAN 需求说明书 v1.0.4.docx\n",
      "file: CUP CAR LOAN 需求说明书 v1.1.2.docx\n",
      "file: 信保贷业务需求说明书 V1.12-20210319.docx\n",
      "file: 信保贷二期业务需求说明书 V1.4-20210908(SIGNOFF).docx\n",
      "file: CUP CAR LOAN 需求说明书 v1.1.0_0119.docx\n",
      "file: 直连中企 需求说明书 v1.0.3.docx\n",
      "file: Baode Car Leasing Loan 需求说明书 v1.3.1.docx\n",
      "file: 宝德车租贷系统功能说明书V1.3.3.docx\n",
      "file: 宝德车租贷系统功能说明书V1.3.3.docx\n",
      "file: 开泰银行CNAPS项目需求分析说明书_ver1.2.docx\n",
      "file: 开泰银行CNAPS项目需求分析说明书_ver2.12 Final.docx\n",
      "file: 开泰银行CNAPS项目需求分析说明书_ver1.1.docx\n",
      "file: 开泰银行CNAPS项目需求分析说明书_ver2.1.docx\n",
      "file: 开泰银行CNAPS项目需求分析说明书_ver2.8.docx\n",
      "file: 开泰银行_统一支付平台_详细设计说明书V1.0.docx\n",
      "file: 开泰银行小米消金联合贷业务需求说明书_V1.5-0521.docx\n",
      "file: 开泰银行(中国)_AML系统-睡眠户提醒需求规格说明书V.docx\n",
      "file: CUP CAR LOAN 需求说明书 v1.1.0.docx\n",
      "file: CUP CAR LOAN 需求说明书 v1.1.3_Final.docx\n",
      "file: 【概要设计说明书Design_manual】信贷业务模块Credit__business_entity.docx\n",
      "file: 【概要设计说明书Design_manual】用户模块User_entity.docx\n",
      "file: 开泰银行数字人民币业务需求说明书-20220526.docx\n",
      "file: 联合贷款管理系统功能说明书（WCD 3.1业务）v1.1.docx\n",
      "file: XBD项目重启二期业务需求说明书_v1.0_0529.docx\n",
      "file: 新网业务需求说明书_v1.0.docx\n",
      "Warning: File not found: C:\\Users\\feng.z\\OneDrive - KASIKORNBANKGROUP\\_Projects_\\Domain-Retail Lending\\Colending\\COLENDING - XINWANG\\20 Deliverables\\02 Requirement Analysis\\2.1 Business Requirement Specification & Function Specification\\联合贷款管理系统业务需求说明书（WCD业务）v1.5 BRD Final Draft_Sign-off Version.docx\n",
      "Warning: File not found: C:\\Users\\feng.z\\OneDrive - KASIKORNBANKGROUP\\_Projects_\\Domain-Retail Lending\\Colending\\COLENDING - XINWANG\\20 Deliverables\\02 Requirement Analysis\\2.1 Business Requirement Specification & Function Specification\\联合贷款管理系统功能说明书（WCD业务）v1.1 FSD Final Draft_Sign-off Version.docx\n",
      "file: 开泰银行在线预约开户项目业务需求说明书-V1.5 2.docx\n",
      "file: FAF 需求说明书 v1.0.9 KBank 0813  FAF0823-修订.docx\n",
      "file: FAF 需求说明书 v1.0.9 KBank 0813  FAF0823.docx\n",
      "file: FAF 需求说明书 v1.0.8.docx\n",
      "file: 开泰银行海尔联合贷业务需求说明书_v0.5_20240116.docx\n",
      "file: 开泰银行海尔联合贷功能需求说明书_v0.6_20240202.docx\n",
      "file: XBD项目重启二期业务需求说明书_v1.1_0531.docx\n",
      "file: 微信银行业务需求说明书 v1.0.0.docx\n",
      "file: 开泰银行(中国)IDAMS_AML系统_需求规格说明书_V1.0-LAPTOP-9CSCGAS0.docx\n",
      "file: 开泰银行IDAMS功能说明书v1.3.5.docx\n",
      "file: 微信银行业务需求说明书 v1.2.docx\n",
      "file: 开泰银行IDAMS功能说明书v1.3.5 - 副本.docx\n",
      "file: IDAMS业务需求说明书(二期) v3.0 (清洁版).docx\n",
      "file: 开泰银行EKYC数据源切换项目功能需求说明书_v1.1_0509.docx\n",
      "file: 开泰银行KYC项目详细设计说明书_V1.0_0815.docx\n",
      "file: 开泰银行乐信项目业务需求说明书 V1.1_draft_0722.docx\n",
      "file: 开泰银行信贷流程管理系统优化项目业务需求说明书_v0.3.docx\n",
      "file: 信贷流程管理系统（第一期：贷前流程）功能说明书 v1.0-20231106_待评估.docx\n",
      "file: 开泰银行马上项目业务需求说明书_v1.2.docx\n",
      "file: 开泰银行马上项目业务需求说明书_v1.8-0523 (2).docx\n",
      "file: 开泰银行Newlending 项目ISOFT系统功能说明书_PCL&PBL&马上_V4.0-ISOFT-20240820.docx\n",
      "file: Lending业务需求说明书_v0.8_1201.docx\n",
      "file: 开泰银行个人消费贷前端（H5&小程序）业务需求说明书_V1.2_20221205.docx\n",
      "file: 09_KBank新信贷系统-软件需求规格说明书（核算系统）V1.0-20230710.docx\n",
      "file: 08_KBank新信贷系统-软件需求规格说明书（CIF系统）V1.0-20230527.docx\n",
      "file: 05_KBank新信贷系统-软件需求规格说明书（零售金融）V1.0-20230630.docx\n",
      "file: 01_KBank新信贷系统-软件需求规格说明书（系统首页）V1.0-20230712.docx\n",
      "file: 12_KBank新信贷系统-软件需求规格说明书（驾驶舱）V1.1-20230703(1).docx\n",
      "file: 03_KBank新信贷系统-软件需求规格说明书（营运中心）V1.0-20230909.docx\n",
      "file: 13_KBank新信贷系统-软件需求规格说明书（供应链金融）V1.0-20230726.docx\n",
      "file: 10_KBank新信贷系统-软件需求规格说明书（贷后系统）V1.0-20230728.docx\n",
      "file: 开泰银行新信贷系统-软件需求规格说明书V1.0-20230426.docx\n",
      "file: ._02_KBank新信贷系统-软件需求规格说明书（工作台）V1.0-20230602..docx\n",
      "file: ._12_KBank新信贷系统-软件需求规格说明书（驾驶舱）V1.0-20230527.docx\n",
      "file: 09_KBank新信贷系统-软件需求规格说明书（核算系统）V1.0-20230601.docx\n",
      "file: 额度管控需求说明书_v1.1_0615.docx\n",
      "file: 开泰银行蚂蚁金服项目业务需求说明书v0.7_20231102.docx\n",
      "file: 附件二：开泰银行（中国）新信贷风险管理系统-工作说明书（SOW）_V1.4.docx\n",
      "file: 开泰银行Risk System BaiRong项目-功能需求说明书V1.1_20231218.docx\n",
      "file: RISK_数据库设计说明书_汇总版本.docx\n",
      "file: 大数个人经营贷需求说明书 v1.5.docx\n",
      "file: 开泰银行dashu项目概要设计说明书_v1.0.docx\n",
      "file: FUBON同业户余额监控需求说明书 v1.2.docx\n",
      "file: PAPH LOAN 需求说明书 v1.0.6.docx\n",
      "file: 开泰银行PAPH项目概要设计说明书_V1.0.docx\n",
      "file: 关于二代征信查询管理系统增加衍生变量加工功能模块的需求说明书0422(2）.docx\n",
      "file: 开泰银行Personal Consumption Loan MVP1.0项目功能需求说明书_1213.docx\n",
      "file: 开泰银行pcl1.0项目 IM详细设计说明书_v1.3.docx\n",
      "file: 开泰银行dashu项目详细设计说明书_v1.0.docx\n",
      "file: 百信银行需求说明书(Solo-Lending) V1.0_draft.docx\n",
      "file: CUP CAR LOAN 需求说明书 v1.0.9_1216.docx\n",
      "file: CUP CAR LOAN 需求说明书 v1.1.3_0330.docx\n",
      "file: FAF 需求说明书 v1.0.0.docx\n",
      "file: 微信银行业务需求说明书 v1.0.0.docx\n",
      "file: 开泰银行(中国)IDAMS_AML系统_需求规格说明书_V1.0-LAPTOP-9CSCGAS0.docx\n",
      "file: IDAMS业务需求说明书(二期) v3.0 (清洁版).docx\n",
      "file: PAPH LOAN 需求说明书 v2.2.docx\n",
      "file: PBOC人行征信衍生变量管理系统 需求说明书 v1.1.0.docx\n",
      "file: 人行征信报告实时查询及衍生变量管理系统功能说明书V1.4.docx\n",
      "file: CUP CAR LOAN 需求说明书 v1.1.0.docx\n",
      "file: CUP CAR LOAN 需求说明书 v1.1.3_updated.docx\n",
      "file: 信保贷业务需求说明书(Co-Lending) V1.21-20210409.docx\n",
      "file: 信保贷业务需求说明书（KORPS） V1.17-20210329.docx\n",
      "file: 直连中企 需求说明书 v1.0.6.docx\n",
      "file: 联合贷款管理系统功能说明书（WCD业务）v1.1 FSD Final Draft_Sign-off Version.docx\n",
      "file: CUP CAR LOAN 需求说明书 v1.0.4.docx\n",
      "file: CUP CAR LOAN 需求说明书 v1.1.2.docx\n",
      "file: 信保贷业务需求说明书 V1.12-20210319.docx\n",
      "file: 开泰银行(中国)有限公司AML系统XBD需求说明书(一期)V1.0-20210409.docx\n",
      "file: 信保平台（阳光资产）业务需求说明书V1.1-20210923-OMT20210927.docx\n",
      "file: 信保平台（阳光资产Release2）业务需求说明书V1.4-20211209(clean).docx\n",
      "file: 联合贷款管理系统功能说明书（阳光资产业务R1）V1.1-20211014（FA）.docx\n",
      "file: 新网系统功能需求说明书_v1.2.docx\n",
      "file: 直连中企 需求说明书 v1.0.1.docx\n",
      "file: 开泰银行ZHQ Consumption Loan项目业务需求说明书_v1.5_20230423.docx\n",
      "file: IM-ZHQ-PCL项目概要设计说明书_V1.0.docx\n"
     ]
    }
   ],
   "source": [
    "# Example usage\n",
    "source_folder = r\"C:\\Users\\feng.z\\OneDrive - KASIKORNBANKGROUP\\_Projects_\"\n",
    "destination_folder = r\"D:\\docs\\project\\requirement\"\n",
    "pattern = r\"说明书.*\\.docx$\"\n",
    "\n",
    "qualified_files, invalid_files = find_latest_files(source_folder, pattern)\n",
    "#copy_files_to_dest(qualified_files, destination_folder)\n"
   ]
  },
  {
   "cell_type": "code",
   "execution_count": 20,
   "metadata": {},
   "outputs": [
    {
     "data": {
      "text/plain": [
       "'开泰银行(中国)_AML系统-睡眠户提醒需求规格说明书V.docx'"
      ]
     },
     "execution_count": 20,
     "metadata": {},
     "output_type": "execute_result"
    }
   ],
   "source": [
    "next(iter(qualified_files))"
   ]
  },
  {
   "cell_type": "code",
   "execution_count": 23,
   "metadata": {},
   "outputs": [],
   "source": [
    "from itertools import islice\n",
    "sample_files = dict(islice(qualified_files.items(), 2))"
   ]
  },
  {
   "cell_type": "code",
   "execution_count": 35,
   "metadata": {},
   "outputs": [
    {
     "name": "stdout",
     "output_type": "stream",
     "text": [
      "Source: C:\\Users\\feng.z\\OneDrive - KASIKORNBANKGROUP\\_Projects_\\1Interface documents\\09_AML\\Project Requirement\\开泰银行(中国)_AML系统-睡眠户提醒需求规格说明书V.docx, Destination: D:\\docs\\project\\requirement\\开泰银行(中国)_AML系统-睡眠户提醒需求规格说明书V.docx\n",
      "Error copying 开泰银行(中国)_AML系统-睡眠户提醒需求规格说明书V.docx: [Errno 22] Invalid argument\n",
      "Source: C:\\Users\\feng.z\\OneDrive - KASIKORNBANKGROUP\\_Projects_\\XBD_YG\\阳光\\BRD\\Release2\\开泰银行(中国)_AML系统_PAOC需求说明书 V5.docx, Destination: D:\\docs\\project\\requirement\\开泰银行(中国)_AML系统_PAOC需求说明书 V5.docx\n",
      "Error copying 开泰银行(中国)_AML系统_PAOC需求说明书 V5.docx: [Errno 22] Invalid argument\n"
     ]
    }
   ],
   "source": [
    "copy_files_to_dest(sample_files, destination_folder)"
   ]
  },
  {
   "cell_type": "code",
   "execution_count": 30,
   "metadata": {},
   "outputs": [
    {
     "data": {
      "text/plain": [
       "True"
      ]
     },
     "execution_count": 30,
     "metadata": {},
     "output_type": "execute_result"
    }
   ],
   "source": [
    "is_file_downloaded(r\"C:\\Users\\feng.z\\OneDrive - KASIKORNBANKGROUP\\_Projects_\\1Interface documents\\09_AML\\Project Requirement\\开泰银行(中国)_AML系统-睡眠户提醒需求规格说明书V.docx\")"
   ]
  }
 ],
 "metadata": {
  "kernelspec": {
   "display_name": "agent",
   "language": "python",
   "name": "python3"
  },
  "language_info": {
   "codemirror_mode": {
    "name": "ipython",
    "version": 3
   },
   "file_extension": ".py",
   "mimetype": "text/x-python",
   "name": "python",
   "nbconvert_exporter": "python",
   "pygments_lexer": "ipython3",
   "version": "3.10.16"
  }
 },
 "nbformat": 4,
 "nbformat_minor": 2
}
